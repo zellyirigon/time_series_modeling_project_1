{
 "cells": [
  {
   "cell_type": "markdown",
   "id": "5b6ddfa8-255b-4d35-bf79-b05b149918c7",
   "metadata": {},
   "source": [
    "# Modeling Part\n",
    "\n",
    "## Project 1 - Predicting Active Users on a Website\n",
    "\n",
    "Time series analysis involves examining datasets that change over time to identify patterns, trends, and seasonal variations. This type of analysis is used in various fields such as finance, economics, and meteorology to forecast future values based on past data.\n",
    "\n",
    "- Steps Involved in Time Series Analysis:\n",
    "  \n",
    "1- Data Collection: The first step is gathering the relevant data over a specified period. This data must be accurate and timely to ensure meaningful analysis.   `**done!**`\n",
    "\n",
    "2- Visualisation: Once collected, the data is visualised using plots and graphs to understand its underlying patterns, trends, and any seasonal variations.  `**done!**`\n",
    "\n",
    "3- Decomposition: The time series data is decomposed into its constituent components: trend, seasonality, and residual (noise). This helps in better understanding the individual elements affecting the data.  `**done!**`\n",
    "\n",
    "4- Stationarity: For accurate modelling, the data must be stationary, meaning its statistical properties (mean, variance) do not change over time. Techniques such as differencing or transformation are used to achieve stationarity if needed.  `**done!**`\n",
    "\n",
    "5- Model Selection: Various models can be applied to time series data, including ARIMA (AutoRegressive Integrated Moving Average), SARIMA (Seasonal ARIMA), and EMA (Exponential Moving Average). The choice of model depends on the characteristics of the data and the specific requirements of the analysis. `**ongoing**`\n",
    "\n",
    "6- Parameter Estimation and Validation: Once a model is selected, its parameters need to be estimated and validated. This involves using techniques like cross-validation to ensure the model performs well on unseen data.\n",
    "\n",
    "7- Forecasting: Using the validated model, future values of the time series are predicted. This is the core purpose of time series analysis and helps in making informed decisions based on the forecasts.\n",
    "\n",
    "8- Evaluation and Updating: The accuracy of the forecasts is evaluated using metrics such as Mean Absolute Error (MAE) or Root Mean Square Error (RMSE). Based on the evaluation, the model might need to be updated or refined to improve its forecasting accuracy.\n",
    "\n",
    "> In this project all these steps will be carried out. will be carried out."
   ]
  },
  {
   "cell_type": "code",
   "execution_count": 1,
   "id": "74363b60-71e2-45f8-81ff-5a1e6422f0cc",
   "metadata": {},
   "outputs": [],
   "source": [
    "!pip install -q watermark"
   ]
  },
  {
   "cell_type": "code",
   "execution_count": 2,
   "id": "7876878b-b188-438e-b990-f8d756164731",
   "metadata": {},
   "outputs": [
    {
     "name": "stdout",
     "output_type": "stream",
     "text": [
      "Author: Zelly irigon\n",
      "\n"
     ]
    }
   ],
   "source": [
    "%reload_ext watermark\n",
    "%watermark -a \"Zelly irigon\""
   ]
  },
  {
   "cell_type": "code",
   "execution_count": null,
   "id": "e10dda83-7a3d-4d3e-bf68-a4da0c9d2115",
   "metadata": {},
   "outputs": [],
   "source": []
  }
 ],
 "metadata": {
  "kernelspec": {
   "display_name": "Python 3 (ipykernel)",
   "language": "python",
   "name": "python3"
  },
  "language_info": {
   "codemirror_mode": {
    "name": "ipython",
    "version": 3
   },
   "file_extension": ".py",
   "mimetype": "text/x-python",
   "name": "python",
   "nbconvert_exporter": "python",
   "pygments_lexer": "ipython3",
   "version": "3.11.7"
  }
 },
 "nbformat": 4,
 "nbformat_minor": 5
}
