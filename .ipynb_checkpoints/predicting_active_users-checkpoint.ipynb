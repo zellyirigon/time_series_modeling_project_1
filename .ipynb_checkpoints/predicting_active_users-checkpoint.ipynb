{
 "cells": [
  {
   "cell_type": "markdown",
   "id": "87cdf0f7-82ce-4794-81ee-850e40d344e7",
   "metadata": {},
   "source": [
    "# Project 1 - Predicting Active Users on a Website\n",
    "\n",
    "Time series analysis involves examining datasets that change over time to identify patterns, trends, and seasonal variations. This type of analysis is used in various fields such as finance, economics, and meteorology to forecast future values based on past data.\n",
    "\n",
    "- Steps Involved in Time Series Analysis:\n",
    "  \n",
    "1- Data Collection: The first step is gathering the relevant data over a specified period. This data must be accurate and timely to ensure meaningful analysis.\n",
    "\n",
    "2- Visualisation: Once collected, the data is visualised using plots and graphs to understand its underlying patterns, trends, and any seasonal variations.\n",
    "\n",
    "3- Decomposition: The time series data is decomposed into its constituent components: trend, seasonality, and residual (noise). This helps in better understanding the individual elements affecting the data.\n",
    "\n",
    "4- Stationarity: For accurate modelling, the data must be stationary, meaning its statistical properties (mean, variance) do not change over time. Techniques such as differencing or transformation are used to achieve stationarity if needed.\n",
    "\n",
    "5- Model Selection: Various models can be applied to time series data, including ARIMA (AutoRegressive Integrated Moving Average), SARIMA (Seasonal ARIMA), and EMA (Exponential Moving Average). The choice of model depends on the characteristics of the data and the specific requirements of the analysis.\n",
    "\n",
    "6- Parameter Estimation and Validation: Once a model is selected, its parameters need to be estimated and validated. This involves using techniques like cross-validation to ensure the model performs well on unseen data.\n",
    "\n",
    "7- Forecasting: Using the validated model, future values of the time series are predicted. This is the core purpose of time series analysis and helps in making informed decisions based on the forecasts.\n",
    "\n",
    "8- Evaluation and Updating: The accuracy of the forecasts is evaluated using metrics such as Mean Absolute Error (MAE) or Root Mean Square Error (RMSE). Based on the evaluation, the model might need to be updated or refined to improve its forecasting accuracy.\n",
    "\n",
    "> In this project all these steps will be carried out."
   ]
  },
  {
   "cell_type": "code",
   "execution_count": 1,
   "id": "b95e6a70-7168-4097-8ab3-67fd8a687f8a",
   "metadata": {},
   "outputs": [],
   "source": [
    "!pip install -q -U watermark"
   ]
  },
  {
   "cell_type": "code",
   "execution_count": 2,
   "id": "91a15591-0f46-412d-a65b-62d93ed2bc9a",
   "metadata": {},
   "outputs": [],
   "source": [
    "# Imports\n",
    "import pandas as pd\n",
    "import numpy as np\n",
    "import matplotlib.pyplot as plt\n",
    "import matplotlib as m\n",
    "import seaborn as sns\n",
    "import statsmodels.api as sm\n",
    "from statsmodels.tsa.seasonal import seasonal_decompose"
   ]
  },
  {
   "cell_type": "code",
   "execution_count": 3,
   "id": "85228781-e79d-46b2-b75a-7c24fe3b452a",
   "metadata": {},
   "outputs": [],
   "source": [
    "# Formatting for Graphs and Tables\n",
    "plt.style.use('ggplot')\n",
    "pd.set_option('display.expand_frame_repr', False)\n",
    "pd.set_option('display.max_columns', 500)\n",
    "pd.set_option('display.width', 1000)"
   ]
  },
  {
   "cell_type": "code",
   "execution_count": 4,
   "id": "132f6d01-7107-4c70-86d5-f8f8cbbe323d",
   "metadata": {},
   "outputs": [],
   "source": [
    "# Formatting the Graphs Label\n",
    "m.rcParams['axes.labelsize'] = 14\n",
    "m.rcParams['xtick.labelsize'] = 12\n",
    "m.rcParams['ytick.labelsize'] = 12\n",
    "m.rcParams['text.color'] = 'k'"
   ]
  },
  {
   "cell_type": "code",
   "execution_count": 5,
   "id": "e45ab745-d65e-466c-8bb9-50b08191ed19",
   "metadata": {},
   "outputs": [
    {
     "name": "stdout",
     "output_type": "stream",
     "text": [
      "Author: Zelly Irigon\n",
      "\n"
     ]
    }
   ],
   "source": [
    "%reload_ext watermark\n",
    "%watermark -a \"Zelly Irigon\""
   ]
  },
  {
   "cell_type": "code",
   "execution_count": 7,
   "id": "7020027b-5f88-4140-a553-0160b59c9c35",
   "metadata": {},
   "outputs": [],
   "source": [
    "# Loading the data\n",
    "data = pd.read_csv('dataset.csv', header = None)"
   ]
  },
  {
   "cell_type": "code",
   "execution_count": 8,
   "id": "d7f28641-6bf7-42f1-b092-68c9c97e5bc5",
   "metadata": {},
   "outputs": [
    {
     "data": {
      "text/html": [
       "<div>\n",
       "<style scoped>\n",
       "    .dataframe tbody tr th:only-of-type {\n",
       "        vertical-align: middle;\n",
       "    }\n",
       "\n",
       "    .dataframe tbody tr th {\n",
       "        vertical-align: top;\n",
       "    }\n",
       "\n",
       "    .dataframe thead th {\n",
       "        text-align: right;\n",
       "    }\n",
       "</style>\n",
       "<table border=\"1\" class=\"dataframe\">\n",
       "  <thead>\n",
       "    <tr style=\"text-align: right;\">\n",
       "      <th></th>\n",
       "      <th>0</th>\n",
       "      <th>1</th>\n",
       "    </tr>\n",
       "  </thead>\n",
       "  <tbody>\n",
       "    <tr>\n",
       "      <th>0</th>\n",
       "      <td>2013-01</td>\n",
       "      <td>110</td>\n",
       "    </tr>\n",
       "    <tr>\n",
       "      <th>1</th>\n",
       "      <td>2013-02</td>\n",
       "      <td>121</td>\n",
       "    </tr>\n",
       "    <tr>\n",
       "      <th>2</th>\n",
       "      <td>2013-03</td>\n",
       "      <td>135</td>\n",
       "    </tr>\n",
       "    <tr>\n",
       "      <th>3</th>\n",
       "      <td>2013-04</td>\n",
       "      <td>127</td>\n",
       "    </tr>\n",
       "    <tr>\n",
       "      <th>4</th>\n",
       "      <td>2013-05</td>\n",
       "      <td>128</td>\n",
       "    </tr>\n",
       "  </tbody>\n",
       "</table>\n",
       "</div>"
      ],
      "text/plain": [
       "         0    1\n",
       "0  2013-01  110\n",
       "1  2013-02  121\n",
       "2  2013-03  135\n",
       "3  2013-04  127\n",
       "4  2013-05  128"
      ]
     },
     "execution_count": 8,
     "metadata": {},
     "output_type": "execute_result"
    }
   ],
   "source": [
    "# Visualasing the data\n",
    "data.head()"
   ]
  },
  {
   "cell_type": "markdown",
   "id": "ae14879d-597b-44ed-845d-bea7a1eaefcc",
   "metadata": {},
   "source": [
    "Note that there are two columns. This data represents a univariate series, so there is only one random variable(active_users) and the date, which means the index of the series. The series is monthly.\n"
   ]
  },
  {
   "cell_type": "code",
   "execution_count": 9,
   "id": "89e16326-64cc-4fba-94f9-6529e89a0968",
   "metadata": {},
   "outputs": [],
   "source": [
    "# Adjusting the name of each column\n",
    "data.columns = ['month', 'active_users']"
   ]
  },
  {
   "cell_type": "code",
   "execution_count": 10,
   "id": "fa67e63c-4add-4c7e-a946-14ccd78c4cc6",
   "metadata": {},
   "outputs": [
    {
     "data": {
      "text/html": [
       "<div>\n",
       "<style scoped>\n",
       "    .dataframe tbody tr th:only-of-type {\n",
       "        vertical-align: middle;\n",
       "    }\n",
       "\n",
       "    .dataframe tbody tr th {\n",
       "        vertical-align: top;\n",
       "    }\n",
       "\n",
       "    .dataframe thead th {\n",
       "        text-align: right;\n",
       "    }\n",
       "</style>\n",
       "<table border=\"1\" class=\"dataframe\">\n",
       "  <thead>\n",
       "    <tr style=\"text-align: right;\">\n",
       "      <th></th>\n",
       "      <th>month</th>\n",
       "      <th>active_users</th>\n",
       "    </tr>\n",
       "  </thead>\n",
       "  <tbody>\n",
       "    <tr>\n",
       "      <th>0</th>\n",
       "      <td>2013-01</td>\n",
       "      <td>110</td>\n",
       "    </tr>\n",
       "    <tr>\n",
       "      <th>1</th>\n",
       "      <td>2013-02</td>\n",
       "      <td>121</td>\n",
       "    </tr>\n",
       "    <tr>\n",
       "      <th>2</th>\n",
       "      <td>2013-03</td>\n",
       "      <td>135</td>\n",
       "    </tr>\n",
       "    <tr>\n",
       "      <th>3</th>\n",
       "      <td>2013-04</td>\n",
       "      <td>127</td>\n",
       "    </tr>\n",
       "    <tr>\n",
       "      <th>4</th>\n",
       "      <td>2013-05</td>\n",
       "      <td>128</td>\n",
       "    </tr>\n",
       "  </tbody>\n",
       "</table>\n",
       "</div>"
      ],
      "text/plain": [
       "     month  active_users\n",
       "0  2013-01           110\n",
       "1  2013-02           121\n",
       "2  2013-03           135\n",
       "3  2013-04           127\n",
       "4  2013-05           128"
      ]
     },
     "execution_count": 10,
     "metadata": {},
     "output_type": "execute_result"
    }
   ],
   "source": [
    "# Visualising the data\n",
    "data.head()"
   ]
  },
  {
   "cell_type": "code",
   "execution_count": null,
   "id": "d024fba2-fdca-4462-9341-2ee711d25c50",
   "metadata": {},
   "outputs": [],
   "source": []
  }
 ],
 "metadata": {
  "kernelspec": {
   "display_name": "Python 3 (ipykernel)",
   "language": "python",
   "name": "python3"
  },
  "language_info": {
   "codemirror_mode": {
    "name": "ipython",
    "version": 3
   },
   "file_extension": ".py",
   "mimetype": "text/x-python",
   "name": "python",
   "nbconvert_exporter": "python",
   "pygments_lexer": "ipython3",
   "version": "3.11.7"
  }
 },
 "nbformat": 4,
 "nbformat_minor": 5
}
